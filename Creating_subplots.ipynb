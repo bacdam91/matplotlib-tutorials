{
  "nbformat": 4,
  "nbformat_minor": 0,
  "metadata": {
    "colab": {
      "name": "Creating subplots",
      "provenance": [],
      "include_colab_link": true
    },
    "kernelspec": {
      "name": "python3",
      "display_name": "Python 3"
    },
    "accelerator": "GPU"
  },
  "cells": [
    {
      "cell_type": "markdown",
      "metadata": {
        "id": "view-in-github",
        "colab_type": "text"
      },
      "source": [
        "<a href=\"https://colab.research.google.com/github/bacdam91/matplotlib-tutorials/blob/master/Creating_subplots.ipynb\" target=\"_parent\"><img src=\"https://colab.research.google.com/assets/colab-badge.svg\" alt=\"Open In Colab\"/></a>"
      ]
    },
    {
      "cell_type": "markdown",
      "metadata": {
        "id": "hOvyZJ2pTPnd",
        "colab_type": "text"
      },
      "source": [
        "# Creating subplots\n",
        "\n",
        "In this tutorial we will have a look at creating subplots. Subplots are basically multiple graph within  1 figure. We use the ```plt.subplots()``` method to create a figure with subplots. "
      ]
    },
    {
      "cell_type": "markdown",
      "metadata": {
        "id": "5PN5262TTnMZ",
        "colab_type": "text"
      },
      "source": [
        "### Import libraries\n",
        "\n",
        "We will import two libraries for this tutorial. These include:\n",
        "1. ```matplotlib.pyplot``` which will help us to create the subplots\n",
        "2. ```numpy``` which we will use to hold our x's and y's"
      ]
    },
    {
      "cell_type": "code",
      "metadata": {
        "id": "kzAnpCNA_mYH",
        "colab_type": "code",
        "colab": {}
      },
      "source": [
        "import matplotlib.pyplot as plt\n",
        "import numpy as np"
      ],
      "execution_count": 0,
      "outputs": []
    },
    {
      "cell_type": "markdown",
      "metadata": {
        "id": "5KJQ_pidUDtK",
        "colab_type": "text"
      },
      "source": [
        "### Creating some graph data\n",
        "\n",
        "We will create two sets of data for plotting. The first set (```x1```,```y1```) is a parabolic graph and the second (```x2```,```y2```) is a exponential graph. The datasets is not particular important in the demonstration of the usage of ```plt.subplots()``` but it does add some visual interest."
      ]
    },
    {
      "cell_type": "code",
      "metadata": {
        "id": "CELtZQOK_zB8",
        "colab_type": "code",
        "colab": {}
      },
      "source": [
        "x1 = np.array([i for i in range(-10, 11)])\n",
        "y1 = np.array([i**2 for i in range(-10, 11)])\n",
        "\n",
        "x2 = np.array([i for i in range(10)])\n",
        "y2 = np.array([2 ** i for i in range(10)]) "
      ],
      "execution_count": 0,
      "outputs": []
    },
    {
      "cell_type": "markdown",
      "metadata": {
        "id": "CpMjnKuaVEaW",
        "colab_type": "text"
      },
      "source": [
        "We'll create an array of titles for the two graphs, appropriately named of course.\n",
        "\n",
        "We will put the datasets into an array so that we can use the ```zip()``` function to iterate through them in parallel. If you are not familiar with the ```zip()``` function, you can check out my other tutorial on its usage on the channel."
      ]
    },
    {
      "cell_type": "code",
      "metadata": {
        "id": "IVE-ilxiFvll",
        "colab_type": "code",
        "colab": {}
      },
      "source": [
        "titles = [\"Parabolic graph\", \"Exponential graph\"]\n",
        "x = np.array([x1, x2])\n",
        "y = np.array([y1, y2])"
      ],
      "execution_count": 0,
      "outputs": []
    },
    {
      "cell_type": "markdown",
      "metadata": {
        "id": "eAqxXwfKVoZU",
        "colab_type": "text"
      },
      "source": [
        "### Defining the subplots\n",
        "\n",
        "The ```plt.subplots()``` function takes in a few parameters, but the most commonly used ones are:\n",
        "1. ```nrows``` which determines the number of rows of subplots. The default is 1.\n",
        "2. ```ncols``` which determines the number of columns of subplots. The default is 1.\n",
        "3.```figsize``` the total size of the figure. This parameter takes a tuple of length of 2 for (width, height). Remember this is the total width and total height of the figure, i.e. all the subplots.\n",
        "\n",
        "The return values is the ```fig``` which is the figure, and the ```ax``` which is the array of axes, i.e., each subplot.\n",
        "\n",
        "We will use the builtin ```zip()``` function to iterate through the arrays in parallel to produce the figure below. We added titles using ```.set_title()```, and x and y axis with ```.set_xlabel()``` and ```.set_ylabel()``` respectively."
      ]
    },
    {
      "cell_type": "code",
      "metadata": {
        "id": "rO17js00VcPY",
        "colab_type": "code",
        "colab": {
          "base_uri": "https://localhost:8080/",
          "height": 350
        },
        "outputId": "34572a8b-fae7-45d4-e017-bb7cc4e9279c"
      },
      "source": [
        "nrows = 1\n",
        "ncols = 2\n",
        "\n",
        "fig, ax = plt.subplots(nrows, ncols, figsize=(10,5))\n",
        "\n",
        "for f, xi, yi, t in zip(ax, x, y, titles):\n",
        "    f.plot(xi, yi)\n",
        "    f.set_title(t)\n",
        "    f.set_ylabel(\"y\")\n",
        "    f.set_xlabel(\"x\")"
      ],
      "execution_count": 72,
      "outputs": [
        {
          "output_type": "display_data",
          "data": {
            "image/png": "[encoded data removed]",
            "text/plain": [
              "<Figure size 720x360 with 2 Axes>"
            ]
          },
          "metadata": {
            "tags": []
          }
        }
      ]
    },
    {
      "cell_type": "code",
      "metadata": {
        "id": "zVBh5pLtWq44",
        "colab_type": "code",
        "colab": {}
      },
      "source": [
        ""
      ],
      "execution_count": 0,
      "outputs": []
    }
  ]
}